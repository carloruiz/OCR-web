{
 "cells": [
  {
   "cell_type": "code",
   "execution_count": 2,
   "metadata": {
    "collapsed": true
   },
   "outputs": [],
   "source": [
    "from scipy import misc\n",
    "import numpy as np\n",
    "import matplotlib.pyplot as plt\n",
    "import pickle\n",
    "import cv2\n",
    "import math"
   ]
  },
  {
   "cell_type": "code",
   "execution_count": 3,
   "metadata": {
    "collapsed": true
   },
   "outputs": [],
   "source": [
    "# brought to you by Jobim, Debussy's la Mer, Sergio Sampaio\n",
    "f = open(\"rf-model.pckl\", 'rb')\n",
    "model = pickle.load(f)\n",
    "f.close()"
   ]
  },
  {
   "cell_type": "code",
   "execution_count": 4,
   "metadata": {
    "collapsed": true
   },
   "outputs": [],
   "source": [
    "%matplotlib inline\n",
    "\n",
    "def calc_borders(dim):\n",
    "    top = math.ceil((28 - dim[0]) / 2)\n",
    "    bottom = math.floor((28 - dim[0]) / 2)\n",
    "    left = math.ceil((28 - dim[1]) / 2)\n",
    "    right = math.floor((28 - dim[1]) / 2)\n",
    "    return top, bottom, left, right\n",
    "\n",
    "def get_area(contour):\n",
    "    '''\n",
    "    gets (x,y) coords defining the smallest rectangular area completely enclosing\n",
    "    the given contour\n",
    "    '''\n",
    "    x_min, y_min = contour[0]\n",
    "    x_max, y_max = contour[0]\n",
    "    for e in contour:\n",
    "        if e[0] > x_max:\n",
    "            x_max = e[0]\n",
    "        elif e[0] < x_min:\n",
    "            x_min = e[0]\n",
    "        if e[1] > y_max:\n",
    "            y_max = e[1]\n",
    "        elif e[1] < y_min:\n",
    "            y_min = e[1]\n",
    "\n",
    "    return (x_min, y_min, x_max, y_max)\n",
    "\n",
    "def preprocess(img_file):\n",
    "    im = cv2.imread(img_file) \n",
    "    im = 255 - cv2.cvtColor(im, cv2.COLOR_BGR2GRAY) #mnist and opencv work with black backgrounds\n",
    "    im2, contours, hierarchy = cv2.findContours(im, cv2.RETR_TREE, cv2.CHAIN_APPROX_NONE)\n",
    "    \n",
    "    if len(contours) > 1:\n",
    "        return \"Please draw a single digit only. The background must be clear.\"\n",
    "    \n",
    "    # crop\n",
    "    x_min, y_min, x_max, y_max = get_area(np.reshape(contours[0], (len(contours[0]),2)))\n",
    "    im = im[y_min:y_max+1, x_min:x_max+1]\n",
    "    \n",
    "    # rescale\n",
    "    if max(np.shape(im)) > 20:\n",
    "        factor = 20.0 / max(np.shape(im))\n",
    "        im = cv2.resize(im, dsize=(0,0), fx=factor, fy=factor, interpolation=cv2.INTER_AREA)\n",
    "    \n",
    "    # add padding around \n",
    "    top, bottom, left, right = calc_borders(np.shape(im))\n",
    "    im = cv2.copyMakeBorder(src=im, top=top, bottom=bottom, left=left, right=right, \n",
    "                          borderType=cv2.BORDER_CONSTANT, value=0)\n",
    "\n",
    "    return im"
   ]
  },
  {
   "cell_type": "code",
   "execution_count": 5,
   "metadata": {},
   "outputs": [
    {
     "name": "stdout",
     "output_type": "stream",
     "text": [
      "[5]\n"
     ]
    },
    {
     "data": {
      "image/png": "[encoded data removed]",
      "text/plain": [
       "<matplotlib.figure.Figure at 0x11e47af60>"
      ]
     },
     "metadata": {},
     "output_type": "display_data"
    }
   ],
   "source": [
    "img = preprocess('5.png')\n",
    "print(model.predict(img.reshape(1,-1)))\n",
    "plt.imshow(img)\n",
    "plt.show()"
   ]
  },
  {
   "cell_type": "code",
   "execution_count": null,
   "metadata": {
    "collapsed": true
   },
   "outputs": [],
   "source": [
    "pixels = get_pixels('1.png')\n",
    "model.predict(pixels.reshape(1,-1))"
   ]
  }
 ],
 "metadata": {
  "kernelspec": {
   "display_name": "Python 3",
   "language": "python",
   "name": "python3"
  },
  "language_info": {
   "codemirror_mode": {
    "name": "ipython",
    "version": 3
   },
   "file_extension": ".py",
   "mimetype": "text/x-python",
   "name": "python",
   "nbconvert_exporter": "python",
   "pygments_lexer": "ipython3",
   "version": "3.6.2"
  }
 },
 "nbformat": 4,
 "nbformat_minor": 2
}
